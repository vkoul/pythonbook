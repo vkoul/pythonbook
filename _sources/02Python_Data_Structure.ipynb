{
 "cells": [
  {
   "cell_type": "markdown",
   "metadata": {},
   "source": [
    "<div class=\"alert alert-block alert-success\">\n",
    "    \n",
    "#  🐍 Python Data Structure\n",
    "    \n",
    " 👨‍🏫 **Vikesh K**      \n",
    " 📓 **Lab 02**        \n",
    "\n",
    "</div>\n"
   ]
  },
  {
   "cell_type": "markdown",
   "metadata": {},
   "source": [
    " 💡  <span style='font-family:Georgia'>\n",
    "    <font color= darkred> ***Don't learn and then start, start and then learn - Anon*** \n",
    "    </font> 💡   "
   ]
  },
  {
   "cell_type": "markdown",
   "metadata": {},
   "source": [
    "    \n",
    "# 📝Lab Agenda\n",
    "    \n",
    "   \n",
    "* Data Structures\n",
    "    * List\n",
    "    * Dictionary\n",
    "    * Tuples\n",
    "* Exercises\n",
    "    \n",
    "\n",
    "    \n",
    "<div/>"
   ]
  },
  {
   "cell_type": "markdown",
   "metadata": {},
   "source": [
    "# Theory"
   ]
  },
  {
   "cell_type": "markdown",
   "metadata": {},
   "source": [
    "\n",
    "## Data Structure Summary"
   ]
  },
  {
   "cell_type": "markdown",
   "metadata": {},
   "source": [
    "![data_structure_summary](../images/data_structure_summary.jpg)"
   ]
  },
  {
   "cell_type": "markdown",
   "metadata": {},
   "source": [
    "# Properties"
   ]
  },
  {
   "cell_type": "markdown",
   "metadata": {},
   "source": [
    "## Lists\n",
    "\n",
    "* Lists are also ordered sequence\n",
    "* They can be modified\n",
    "* Lists can also contain multiple data types\n",
    "* Lists can be nested\n",
    "* List elements can be accesed via an index; also negative index\n",
    "* Index can also be used to slice the lists\n",
    "* You can contcatenate lists by combining them\n",
    "    * `l1 = [2 , 3]`\n",
    "    * `l2 = [5 , 6]`\n",
    "    * `l3 = l1 + l2`\n",
    "* `.extend()` method can be used to add elements to the list"
   ]
  },
  {
   "cell_type": "markdown",
   "metadata": {},
   "source": [
    "![list_elements](../images/list_elements.png)"
   ]
  },
  {
   "cell_type": "markdown",
   "metadata": {},
   "source": [
    "## Tuples\n",
    "\n",
    "* Tuples are ordered sequence\n",
    "    * `height  = (5.11, 5.5, 5.8, 5.5)` \n",
    "* Different type of variables can be contained in a tuple, `str`, `int` etc.\n",
    "* The elements can be accesed via an index, staring from 0\n",
    "    * negative index can also be used\n",
    "* One can concatenate tuples by adding them\n",
    "    * `tuple1 = (2,3,4)`\n",
    "    * `tuple2 = tuple1 + (6,7)`\n",
    "* Once created, you can't manipulate a tuple. You will have to create a new tuple\n",
    "* Tuples can be nested. Tuples within tuples\n",
    "    * `nested_tuple = (1,2,(\"salt,\"sugar\"), (3,4))`\n"
   ]
  },
  {
   "cell_type": "markdown",
   "metadata": {},
   "source": [
    "## Dictionary \n",
    "    \n",
    "* A dictionary consists of ***keys*** and ***values***. \n",
    "* Compared to lists, instead of the numerical indexes, dictionaries have keys. \n",
    "* These keys are used to access values within a dictionary."
   ]
  },
  {
   "cell_type": "markdown",
   "metadata": {},
   "source": [
    "![list_vs_dictionary](../images/list_vs_dictionary.jpg)"
   ]
  },
  {
   "cell_type": "markdown",
   "metadata": {},
   "source": [
    "# Key Functions\n",
    "\n",
    "**Please type each of the code individually and see how it works**"
   ]
  },
  {
   "cell_type": "markdown",
   "metadata": {},
   "source": [
    "### List Functions"
   ]
  },
  {
   "cell_type": "markdown",
   "metadata": {},
   "source": [
    "```py \n",
    "# Creating a sample list\n",
    "my_list = [3, 4, 5, 6, 7, 8]\n",
    "\n",
    "# Adding elements to the list\n",
    "my_list.append(9)  # Adds 9 to the end of the list\n",
    "my_list.insert(0, 2)  # Inserts 2 at index 0\n",
    "my_list.extend([10, 11])  # Adds multiple elements to the end of the list\n",
    "\n",
    "# Removing elements from the list\n",
    "my_list.remove(3)  # Removes the first occurrence of 3 from the list\n",
    "my_list.pop()  # Removes and returns the last element of the list\n",
    "my_list.pop(2)  # Removes and returns the element at index 2\n",
    "\n",
    "# Accessing and modifying elements in the list\n",
    "my_list[0] = 1  # Replaces the element at index 0 with 1\n",
    "my_list[2:4] = [0, 0]  # Replaces elements from index 2 to 4 with 0 and 0\n",
    "\n",
    "# Sorting the list\n",
    "my_list.sort()  # Sorts the list in ascending order\n",
    "my_list.sort(reverse=True)  # Sorts the list in descending order\n",
    "sorted_list = sorted(my_list)  # Returns a new sorted list without modifying the original list\n",
    "\n",
    "# Other useful methods\n",
    "length = len(my_list)  # Returns the number of elements in the list\n",
    "count = my_list.count(5)  # Returns the number of occurrences of 5 in the list\n",
    "index = my_list.index(6)  # Returns the index of the first occurrence of 6 in the list\n",
    "```"
   ]
  },
  {
   "cell_type": "markdown",
   "metadata": {},
   "source": [
    "### Dictionary Functions"
   ]
  },
  {
   "cell_type": "markdown",
   "metadata": {},
   "source": [
    "```py\n",
    "# Creating a sample dictionary\n",
    "my_dict = {\"apple\": 2, \"banana\": 3, \"orange\": 4}\n",
    "\n",
    "# Accessing and modifying dictionary items\n",
    "my_dict[\"apple\"] = 5  # Modifies the value for the key \"apple\"\n",
    "my_dict[\"pear\"] = 6  # Adds a new key-value pair to the dictionary\n",
    "del my_dict[\"orange\"]  # Removes the key-value pair with key \"orange\"\n",
    "\n",
    "# Getting information about the dictionary\n",
    "keys = my_dict.keys()  # Returns a view object of the dictionary keys\n",
    "values = my_dict.values()  # Returns a view object of the dictionary values\n",
    "items = my_dict.items()  # Returns a view object of the dictionary (key, value) pairs\n",
    "\n",
    "# Other useful methods\n",
    "length = len(my_dict)  # Returns the number of key-value pairs in the dictionary\n",
    "exists = \"pear\" in my_dict  # Returns True if the key \"pear\" exists in the dictionary\n",
    "```"
   ]
  },
  {
   "cell_type": "markdown",
   "metadata": {},
   "source": [
    "### Tuple Functions"
   ]
  },
  {
   "cell_type": "markdown",
   "metadata": {},
   "source": [
    "```py\n",
    "# Creating a sample tuple\n",
    "my_tuple = (1, 2, 3, 4, 5)\n",
    "\n",
    "# Accessing tuple elements\n",
    "element = my_tuple[0]  # Returns the first element of the tuple\n",
    "slice = my_tuple[1:3]  # Returns a new tuple with elements from index 1 to 3 (exclusive)\n",
    "\n",
    "# Getting information about the tuple\n",
    "length = len(my_tuple)  # Returns the number of elements in the tuple\n",
    "count = my_tuple.count(3)  # Returns the number of occurrences of 3 in the tuple\n",
    "index = my_tuple.index(4)  # Returns the index of the first occurrence of 4 in the tuple\n",
    "```"
   ]
  },
  {
   "cell_type": "markdown",
   "metadata": {},
   "source": [
    "# Exercises "
   ]
  },
  {
   "cell_type": "markdown",
   "metadata": {},
   "source": [
    "### List"
   ]
  },
  {
   "cell_type": "code",
   "execution_count": null,
   "metadata": {},
   "outputs": [],
   "source": [
    "x = [\"a\", \"b\", \"c\"]\n",
    "print(x)"
   ]
  },
  {
   "cell_type": "code",
   "execution_count": null,
   "metadata": {},
   "outputs": [],
   "source": [
    "# length - How many elements are in the list\n"
   ]
  },
  {
   "cell_type": "code",
   "execution_count": null,
   "metadata": {},
   "outputs": [],
   "source": [
    "# what is the type of x\n"
   ]
  },
  {
   "cell_type": "code",
   "execution_count": 1,
   "metadata": {},
   "outputs": [],
   "source": [
    "# get the 3rd element of the list \n"
   ]
  },
  {
   "cell_type": "markdown",
   "metadata": {},
   "source": [
    "**Q  Extract London from the sentence**"
   ]
  },
  {
   "cell_type": "code",
   "execution_count": 4,
   "metadata": {},
   "outputs": [],
   "source": [
    "x = \"London is a big city\""
   ]
  },
  {
   "cell_type": "code",
   "execution_count": null,
   "metadata": {},
   "outputs": [],
   "source": [
    "# x[start:stop:step]"
   ]
  },
  {
   "cell_type": "markdown",
   "metadata": {
    "id": "lE4Hs6cg9TS3"
   },
   "source": [
    "**Q  What will be the result of `[1,2,3] + [1,1,1]`**\n",
    "\n",
    "*Hint*: The mathematical operations on `list` are very similar to how they work on `string`"
   ]
  },
  {
   "cell_type": "code",
   "execution_count": null,
   "metadata": {},
   "outputs": [],
   "source": [
    "# your code here "
   ]
  },
  {
   "cell_type": "markdown",
   "metadata": {
    "id": "JMmKiRh29TS3"
   },
   "source": [
    "**Q What will be the result of `x = [1,2,3] and x.extend([1,1,1])`**"
   ]
  },
  {
   "cell_type": "code",
   "execution_count": null,
   "metadata": {},
   "outputs": [],
   "source": [
    "# your code here "
   ]
  },
  {
   "cell_type": "markdown",
   "metadata": {
    "id": "5PZ5iyll9TS3"
   },
   "source": [
    "You will notice that the memory location of z remains the same in the below example. This highlights the property that list are mutable"
   ]
  },
  {
   "cell_type": "markdown",
   "metadata": {
    "id": "_eB0J7Uw9TS3"
   },
   "source": [
    "Visualise the steps on [here](http://www.pythontutor.com/visualize.html#code=x%20%3D%20%5B1,2,3%5D%0A%0Aprint%28x%29%0Aprint%28len%28x%29%29%0Aprint%28%22--------%22%29%0A%0A%23%20extending%20%0Ax.extend%28%5B1,1,1%5D%29%0Aprint%28x%29%0Aprint%28len%28x%29%29&cumulative=false&curInstr=7&heapPrimitives=nevernest&mode=display&origin=opt-frontend.js&py=3&rawInputLstJSON=%5B%5D&textReferences=false)"
   ]
  },
  {
   "cell_type": "markdown",
   "metadata": {
    "id": "tasIvtZM9TS3"
   },
   "source": [
    "**Q What will be the result of `x = [1,2,3] and x.append([1,1,1])`**"
   ]
  },
  {
   "cell_type": "code",
   "execution_count": 21,
   "metadata": {
    "id": "CYB9C1xz9TS3"
   },
   "outputs": [],
   "source": [
    "# your code here "
   ]
  },
  {
   "cell_type": "markdown",
   "metadata": {
    "id": "tErHjplt9TS3"
   },
   "source": [
    "Visualise the steps [here](http://www.pythontutor.com/visualize.html#code=x%20%3D%20%5B1,2,3%5D%0A%0Aprint%28x%29%0Aprint%28len%28x%29%29%0Aprint%28%22--------%22%29%0A%0A%23%20extending%20%0Ax.append%28%5B1,1,1%5D%29%0Aprint%28x%29&cumulative=false&curInstr=6&heapPrimitives=nevernest&mode=display&origin=opt-frontend.js&py=3&rawInputLstJSON=%5B%5D&textReferences=false)"
   ]
  },
  {
   "cell_type": "markdown",
   "metadata": {
    "id": "vq1B97_49TS3"
   },
   "source": [
    "**Q What will happen when we do `z = [2,3,4]`; `z[0] = 5`**\n"
   ]
  },
  {
   "cell_type": "code",
   "execution_count": null,
   "metadata": {
    "id": "2t4EK3SG9TS3"
   },
   "outputs": [],
   "source": [
    "# your code here "
   ]
  },
  {
   "cell_type": "markdown",
   "metadata": {
    "id": "9X1VUBuA9TS3"
   },
   "source": [
    "**Q On doing the below steps?**\n",
    "  * `q = [1,2,3]`\n",
    "  * `r = q`\n",
    "  * `r[0] = 9`  \n",
    "  \n",
    "**What will be `q[0]`?**"
   ]
  },
  {
   "cell_type": "code",
   "execution_count": null,
   "metadata": {
    "id": "1QtR7QeV9TS3"
   },
   "outputs": [],
   "source": [
    "# your code here "
   ]
  },
  {
   "cell_type": "markdown",
   "metadata": {
    "id": "xtowrFPu9TS3"
   },
   "source": [
    "Visualise the steps [here](http://www.pythontutor.com/visualize.html#code=q%20%3D%20%5B1,2,3%5D%0Aq%0A%0Ar%20%3D%20q%0A%0Aprint%28r%29%0A%0Ar%5B0%5D%20%3D%209%0Aprint%28r%29%0A%0Aprint%28q%5B0%5D%29%0Aprint%28q%29&cumulative=false&curInstr=8&heapPrimitives=nevernest&mode=display&origin=opt-frontend.js&py=3&rawInputLstJSON=%5B%5D&textReferences=false)"
   ]
  },
  {
   "cell_type": "markdown",
   "metadata": {
    "id": "npCkoGNP9TS4"
   },
   "source": [
    "**Q If `S` is a list what does the following syntax do: `T = S[:]`?**"
   ]
  },
  {
   "cell_type": "code",
   "execution_count": null,
   "metadata": {
    "id": "OI8jEGpB9TS4"
   },
   "outputs": [],
   "source": [
    "# your code here "
   ]
  },
  {
   "cell_type": "markdown",
   "metadata": {
    "id": "I9pYjw7b9TS4"
   },
   "source": [
    "Using the `[:]` creates a deep copy and then s and t are not referencing to the same memory block.  \n",
    "Visualzise the steps [here](http://www.pythontutor.com/visualize.html#code=s%20%3D%20%5B1,2,3%5D%0Aprint%28s%29%0Aprint%28s%5B%3A%5D%29%0A%0A%0A%0At%20%3D%20s%5B%3A%5D%0Aprint%28t%29%0A%0At%5B0%5D%20%3D%209%0A%0Aprint%28s%5B0%5D%29&cumulative=false&curInstr=7&heapPrimitives=nevernest&mode=display&origin=opt-frontend.js&py=3&rawInputLstJSON=%5B%5D&textReferences=false)"
   ]
  },
  {
   "cell_type": "markdown",
   "metadata": {
    "id": "myb8p6nf9TS4"
   },
   "source": [
    "**Q Consider the following list : `A = [\"john\",11,1.4]` . What will list `A` contain after the following command is run: `del(A[0])`?**"
   ]
  },
  {
   "cell_type": "code",
   "execution_count": null,
   "metadata": {
    "id": "-k77Z59A9TS4"
   },
   "outputs": [],
   "source": [
    "# your code here "
   ]
  },
  {
   "cell_type": "markdown",
   "metadata": {
    "id": "yuCyiaS79TS4"
   },
   "source": [
    "**Q In the list `L = [1,2,[3,'a'],[4,'b']]`. How to extract `'b'`?** \n"
   ]
  },
  {
   "cell_type": "code",
   "execution_count": null,
   "metadata": {
    "id": "Oh-kEePU9TS4"
   },
   "outputs": [],
   "source": [
    "# your code here "
   ]
  },
  {
   "cell_type": "markdown",
   "metadata": {
    "id": "01gUuRWW9TS4"
   },
   "source": [
    "**Q What is the result of the following operation: `'P,Q,R,S'.split(',')`? What will be the type of the output?**"
   ]
  },
  {
   "cell_type": "code",
   "execution_count": null,
   "metadata": {
    "id": "ll22BOof9TS4"
   },
   "outputs": [],
   "source": [
    "# your code here "
   ]
  },
  {
   "cell_type": "markdown",
   "metadata": {
    "id": "Uc5_1bLp9TS4",
    "tags": []
   },
   "source": [
    "## Tuples"
   ]
  },
  {
   "cell_type": "code",
   "execution_count": 31,
   "metadata": {},
   "outputs": [
    {
     "name": "stdout",
     "output_type": "stream",
     "text": [
      "(2, 3)\n",
      "<class 'tuple'>\n"
     ]
    }
   ],
   "source": [
    "tuple1 = (2,3)\n",
    "print(tuple1)\n",
    "print(type(tuple1))"
   ]
  },
  {
   "cell_type": "code",
   "execution_count": 32,
   "metadata": {},
   "outputs": [
    {
     "data": {
      "text/plain": [
       "2"
      ]
     },
     "execution_count": 32,
     "metadata": {},
     "output_type": "execute_result"
    }
   ],
   "source": [
    "tuple1[0]"
   ]
  },
  {
   "cell_type": "markdown",
   "metadata": {
    "id": "74qzZebp9TS4"
   },
   "source": [
    "**Q What is the result of the following: `len((\"salt\",10,1.2, \"sugar\",10))`**"
   ]
  },
  {
   "cell_type": "code",
   "execution_count": null,
   "metadata": {
    "id": "SusWR3ff9TS4"
   },
   "outputs": [],
   "source": [
    "# your code here "
   ]
  },
  {
   "cell_type": "markdown",
   "metadata": {
    "id": "KPgqV_Tn9TS4"
   },
   "source": [
    "**Q Consider the tuple `tuple_a = (\"P\",\"Q\",\"R\")`, what is the result of the following operation `tuple_a[-1]?`**"
   ]
  },
  {
   "cell_type": "code",
   "execution_count": null,
   "metadata": {
    "id": "eQJfHvQG9TS4"
   },
   "outputs": [],
   "source": [
    "# your code here "
   ]
  },
  {
   "cell_type": "markdown",
   "metadata": {
    "id": "VdD2Z3b49TS4"
   },
   "source": [
    "**Q Consider the `tuple A=((11,12),[21,22])`, that contains a tuple and list. What is the result of the following operation `A[1]`**"
   ]
  },
  {
   "cell_type": "code",
   "execution_count": null,
   "metadata": {
    "id": "7dXl7Fdi9TS4"
   },
   "outputs": [],
   "source": [
    "# your code here "
   ]
  },
  {
   "cell_type": "markdown",
   "metadata": {
    "id": "JWtfktJU9TS4"
   },
   "source": [
    "**Q Consider the `tuple A=((11,12),[21,22])`, that contains a tuple and list. What is the result of the following operation `A[0][1]`?**"
   ]
  },
  {
   "cell_type": "code",
   "execution_count": null,
   "metadata": {
    "id": "q24s2bfD9TS4"
   },
   "outputs": [],
   "source": [
    "# your code here "
   ]
  },
  {
   "cell_type": "markdown",
   "metadata": {
    "id": "sE1bQvud9TS4"
   },
   "source": [
    "## Dictionary"
   ]
  },
  {
   "cell_type": "markdown",
   "metadata": {
    "id": "o0MRFNb-9TS5"
   },
   "source": [
    "Its important that the key of the dictionary, is immutable. hence it can only be a number, a string or a tuple"
   ]
  },
  {
   "cell_type": "code",
   "execution_count": 46,
   "metadata": {
    "id": "JyHeDRzF9TS5",
    "outputId": "88813fd7-eb9f-4f76-9996-4a1437a04464"
   },
   "outputs": [
    {
     "data": {
      "text/plain": [
       "{'Random_Album': ['1982', '1984'],\n",
       " 'Back in Black': '1980',\n",
       " 'The Dark Side of the Moon': '1973',\n",
       " 'The Bodyguard': '1992',\n",
       " 'Bat Out of Hell': '1977',\n",
       " 'Their Greatest Hits (1971-1975)': '1976',\n",
       " 'Saturday Night Fever': '1977',\n",
       " 'Rumours': '1977'}"
      ]
     },
     "execution_count": 46,
     "metadata": {},
     "output_type": "execute_result"
    }
   ],
   "source": [
    "# Create a sample dictionary\n",
    "release_year_dict = { \"Random_Album\": [\"1982\",\"1984\"],\n",
    "                     \"Back in Black\": \"1980\", \\\n",
    "                    \"The Dark Side of the Moon\": \"1973\", \n",
    "                     \"The Bodyguard\": \"1992\", \\\n",
    "                    \"Bat Out of Hell\": \"1977\", \n",
    "                     \"Their Greatest Hits (1971-1975)\": \"1976\", \\\n",
    "                    \"Saturday Night Fever\": \"1977\", \"Rumours\": \"1977\"}\n",
    "release_year_dict"
   ]
  },
  {
   "cell_type": "code",
   "execution_count": 34,
   "metadata": {
    "id": "NHvVjXMu9TS5",
    "outputId": "6a0cc1c3-0fb0-4d3b-8c5a-2daa2657c38c"
   },
   "outputs": [
    {
     "data": {
      "text/plain": [
       "dict_keys([3, 'Back in Black', 'The Dark Side of the Moon', 'The Bodyguard', 'Bat Out of Hell', 'Their Greatest Hits (1971-1975)', 'Saturday Night Fever', 'Rumours'])"
      ]
     },
     "execution_count": 34,
     "metadata": {},
     "output_type": "execute_result"
    }
   ],
   "source": [
    "# Get all the keys in dictionary\n",
    "release_year_dict.keys()"
   ]
  },
  {
   "cell_type": "code",
   "execution_count": 35,
   "metadata": {
    "id": "zcAWL7dx9TS5",
    "outputId": "775f7558-48f0-44a3-f877-e85069e42742"
   },
   "outputs": [
    {
     "data": {
      "text/plain": [
       "dict_values(['1982', '1980', '1973', '1992', '1977', '1976', '1977', '1977'])"
      ]
     },
     "execution_count": 35,
     "metadata": {},
     "output_type": "execute_result"
    }
   ],
   "source": [
    "# Get all the values in dictionary\n",
    "release_year_dict.values()"
   ]
  },
  {
   "cell_type": "code",
   "execution_count": 37,
   "metadata": {},
   "outputs": [
    {
     "data": {
      "text/plain": [
       "'1980'"
      ]
     },
     "execution_count": 37,
     "metadata": {},
     "output_type": "execute_result"
    }
   ],
   "source": [
    "release_year_dict['Back in Black']"
   ]
  },
  {
   "cell_type": "markdown",
   "metadata": {
    "id": "ycvesvrB9TS5"
   },
   "source": [
    "**Add enteries** to the dictionary"
   ]
  },
  {
   "cell_type": "code",
   "execution_count": 10,
   "metadata": {
    "id": "2cXas12r9TS5",
    "outputId": "852e397d-80cb-429d-9ef7-b3ce6643937a"
   },
   "outputs": [],
   "source": [
    "# Append value with key into dictionary. Add 2007 to Graduation\n"
   ]
  },
  {
   "cell_type": "markdown",
   "metadata": {
    "id": "Gu1RHjvG9TS5"
   },
   "source": [
    "**Delete enteries**"
   ]
  },
  {
   "cell_type": "code",
   "execution_count": 9,
   "metadata": {
    "id": "vnTXTlJx9TS5"
   },
   "outputs": [],
   "source": [
    "# Delete Thriller enteries\n"
   ]
  },
  {
   "cell_type": "markdown",
   "metadata": {
    "id": "RbTB7MKx9TTA"
   },
   "source": [
    "# 📚 Resources\n",
    "\n",
    "\n",
    "* **[Python Tutor](http://www.pythontutor.com/)** - A very good website to visualise the steps in Python. This is helpful to develop intuition behind the steps\n",
    "\n",
    "**Data Structure in Python** \n",
    "    \n",
    "    \n",
    "* **[Python for Aspiring Data Scientists](https://towardsdatascience.com/data-structures-in-python-python-for-aspiring-data-scientists-b52bc058fcbd)**\n",
    "\n",
    "* **[Python List](https://www.programiz.com/python-programming/list)** \n",
    "\n",
    "* **[Python Tuple](https://www.programiz.com/python-programming/tuple)**\n",
    "\n",
    "* **[Python Dictionary](https://www.programiz.com/python-programming/dictionary)**\n"
   ]
  }
 ],
 "metadata": {
  "kernelspec": {
   "display_name": "Python 3 (ipykernel)",
   "language": "python",
   "name": "python3"
  },
  "language_info": {
   "codemirror_mode": {
    "name": "ipython",
    "version": 3
   },
   "file_extension": ".py",
   "mimetype": "text/x-python",
   "name": "python",
   "nbconvert_exporter": "python",
   "pygments_lexer": "ipython3",
   "version": "3.9.13"
  },
  "toc": {
   "base_numbering": 1,
   "nav_menu": {},
   "number_sections": true,
   "sideBar": true,
   "skip_h1_title": false,
   "title_cell": "Table of Contents",
   "title_sidebar": "Contents",
   "toc_cell": true,
   "toc_position": {},
   "toc_section_display": true,
   "toc_window_display": true
  }
 },
 "nbformat": 4,
 "nbformat_minor": 4
}
